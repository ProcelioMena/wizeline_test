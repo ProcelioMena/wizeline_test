{
 "cells": [
  {
   "cell_type": "code",
   "execution_count": 55,
   "metadata": {},
   "outputs": [],
   "source": [
    "import pandas as pd"
   ]
  },
  {
   "cell_type": "code",
   "execution_count": 56,
   "metadata": {},
   "outputs": [
    {
     "name": "stdout",
     "output_type": "stream",
     "text": [
      "there are 706  include in this dataset\n"
     ]
    }
   ],
   "source": [
    "df = pd.read_csv('all_data.csv', usecols=['cadenaComercial'], low_memory=True)\n",
    "print('there are', len(df['cadenaComercial'].unique()), ' include in this dataset')"
   ]
  },
  {
   "cell_type": "code",
   "execution_count": 57,
   "metadata": {},
   "outputs": [
    {
     "data": {
      "text/html": [
       "<div>\n",
       "<style scoped>\n",
       "    .dataframe tbody tr th:only-of-type {\n",
       "        vertical-align: middle;\n",
       "    }\n",
       "\n",
       "    .dataframe tbody tr th {\n",
       "        vertical-align: top;\n",
       "    }\n",
       "\n",
       "    .dataframe thead th {\n",
       "        text-align: right;\n",
       "    }\n",
       "</style>\n",
       "<table border=\"1\" class=\"dataframe\">\n",
       "  <thead>\n",
       "    <tr style=\"text-align: right;\">\n",
       "      <th></th>\n",
       "      <th>estado</th>\n",
       "      <th>producto</th>\n",
       "      <th>size</th>\n",
       "    </tr>\n",
       "  </thead>\n",
       "  <tbody>\n",
       "    <tr>\n",
       "      <th>397</th>\n",
       "      <td>AGUASCALIENTES</td>\n",
       "      <td>FUD</td>\n",
       "      <td>12005</td>\n",
       "    </tr>\n",
       "    <tr>\n",
       "      <th>302</th>\n",
       "      <td>AGUASCALIENTES</td>\n",
       "      <td>DETERGENTE P/ROPA</td>\n",
       "      <td>10188</td>\n",
       "    </tr>\n",
       "    <tr>\n",
       "      <th>520</th>\n",
       "      <td>AGUASCALIENTES</td>\n",
       "      <td>LECHE ULTRAPASTEURIZADA</td>\n",
       "      <td>9824</td>\n",
       "    </tr>\n",
       "    <tr>\n",
       "      <th>813</th>\n",
       "      <td>AGUASCALIENTES</td>\n",
       "      <td>SHAMPOO</td>\n",
       "      <td>9654</td>\n",
       "    </tr>\n",
       "    <tr>\n",
       "      <th>762</th>\n",
       "      <td>AGUASCALIENTES</td>\n",
       "      <td>REFRESCO</td>\n",
       "      <td>9481</td>\n",
       "    </tr>\n",
       "    <tr>\n",
       "      <th>...</th>\n",
       "      <td>...</td>\n",
       "      <td>...</td>\n",
       "      <td>...</td>\n",
       "    </tr>\n",
       "    <tr>\n",
       "      <th>30218</th>\n",
       "      <td>ZACATECAS</td>\n",
       "      <td>SHAMPOO</td>\n",
       "      <td>15012</td>\n",
       "    </tr>\n",
       "    <tr>\n",
       "      <th>29560</th>\n",
       "      <td>ZACATECAS</td>\n",
       "      <td>CHILES EN LATA</td>\n",
       "      <td>14866</td>\n",
       "    </tr>\n",
       "    <tr>\n",
       "      <th>29610</th>\n",
       "      <td>ZACATECAS</td>\n",
       "      <td>COMPONENTES DE AUDIO</td>\n",
       "      <td>14799</td>\n",
       "    </tr>\n",
       "    <tr>\n",
       "      <th>30165</th>\n",
       "      <td>ZACATECAS</td>\n",
       "      <td>REFRESCO</td>\n",
       "      <td>13925</td>\n",
       "    </tr>\n",
       "    <tr>\n",
       "      <th>30360</th>\n",
       "      <td>estado</td>\n",
       "      <td>producto</td>\n",
       "      <td>20</td>\n",
       "    </tr>\n",
       "  </tbody>\n",
       "</table>\n",
       "<p>321 rows × 3 columns</p>\n",
       "</div>"
      ],
      "text/plain": [
       "               estado                 producto   size\n",
       "397    AGUASCALIENTES                      FUD  12005\n",
       "302    AGUASCALIENTES        DETERGENTE P/ROPA  10188\n",
       "520    AGUASCALIENTES  LECHE ULTRAPASTEURIZADA   9824\n",
       "813    AGUASCALIENTES                  SHAMPOO   9654\n",
       "762    AGUASCALIENTES                 REFRESCO   9481\n",
       "...               ...                      ...    ...\n",
       "30218       ZACATECAS                  SHAMPOO  15012\n",
       "29560       ZACATECAS           CHILES EN LATA  14866\n",
       "29610       ZACATECAS     COMPONENTES DE AUDIO  14799\n",
       "30165       ZACATECAS                 REFRESCO  13925\n",
       "30360          estado                 producto     20\n",
       "\n",
       "[321 rows x 3 columns]"
      ]
     },
     "execution_count": 57,
     "metadata": {},
     "output_type": "execute_result"
    }
   ],
   "source": [
    "df = pd.read_csv('all_data.csv', usecols=['estado', 'producto'], low_memory=True)\n",
    "output = df.groupby(['estado', 'producto']).size().reset_index(drop=False)\n",
    "output.columns = ['estado','producto','size']\n",
    "output.sort_values('size',ascending=False).groupby(['estado']).head(10).sort_values(['estado', 'size'], ascending=[True, False])"
   ]
  },
  {
   "cell_type": "code",
   "execution_count": 58,
   "metadata": {},
   "outputs": [
    {
     "data": {
      "text/plain": [
       "cadenaComercial    WAL-MART\n",
       "size                8643133\n",
       "Name: 683, dtype: object"
      ]
     },
     "execution_count": 58,
     "metadata": {},
     "output_type": "execute_result"
    }
   ],
   "source": [
    "df = pd.read_csv('all_data.csv', usecols=['cadenaComercial'], low_memory=True)\n",
    "output = df.groupby(['cadenaComercial']).size().reset_index(drop=False)\n",
    "output.columns = ['cadenaComercial', 'size']\n",
    "output = output.sort_values('size', ascending=False).iloc[0]\n",
    "output"
   ]
  },
  {
   "cell_type": "code",
   "execution_count": 59,
   "metadata": {},
   "outputs": [
    {
     "name": "stderr",
     "output_type": "stream",
     "text": [
      "C:\\Users\\tavo-\\anaconda3\\envs\\lealenv\\lib\\site-packages\\IPython\\core\\interactiveshell.py:3146: DtypeWarning: Columns (5) have mixed types.Specify dtype option on import or set low_memory=False.\n",
      "  interactivity=interactivity, compiler=compiler, result=result)\n"
     ]
    },
    {
     "name": "stdout",
     "output_type": "stream",
     "text": [
      "there are 1245184  non numeric prices and  61285531  prices with good format\n"
     ]
    }
   ],
   "source": [
    "df = pd.read_csv('all_data.csv', usecols=['precio'], low_memory=True)\n",
    "numeric =df[df['precio'].str.contains(\"[0-9.,]+\").isnull()]\n",
    "print('there are', len(df) - len(numeric), ' non numeric prices and ', len(numeric), ' prices with good format')"
   ]
  },
  {
   "cell_type": "markdown",
   "metadata": {},
   "source": [
    "I have some lessons learned from this EDA:\n",
    "1. This is my first time handling a csv file with more than 20GB, i have a 128GB SSD and 12GB of RAM so it was challeging even to download the file (i did some cleaning on my disk)\n",
    "2. Due to the ram limitations i did not charge in memory the whole data just the columns i needed for each questions and redefining the variables with the same name"
   ]
  },
  {
   "cell_type": "markdown",
   "metadata": {},
   "source": [
    "Given the little complexity of the questions i would rather use a linux terminal with several tools like curl, csvkit or csvsql or sql2csv (and scripting if you wanted to reproduce the code) to process the dataset in lesser time, i think that those tools are more efficient than pandas for small tasks like this one."
   ]
  },
  {
   "cell_type": "code",
   "execution_count": null,
   "metadata": {},
   "outputs": [],
   "source": []
  },
  {
   "cell_type": "code",
   "execution_count": null,
   "metadata": {},
   "outputs": [],
   "source": []
  },
  {
   "cell_type": "code",
   "execution_count": null,
   "metadata": {},
   "outputs": [],
   "source": []
  },
  {
   "cell_type": "code",
   "execution_count": null,
   "metadata": {},
   "outputs": [],
   "source": []
  },
  {
   "cell_type": "code",
   "execution_count": null,
   "metadata": {},
   "outputs": [],
   "source": []
  },
  {
   "cell_type": "code",
   "execution_count": null,
   "metadata": {},
   "outputs": [],
   "source": []
  },
  {
   "cell_type": "markdown",
   "metadata": {},
   "source": []
  },
  {
   "cell_type": "code",
   "execution_count": null,
   "metadata": {},
   "outputs": [],
   "source": []
  }
 ],
 "metadata": {
  "kernelspec": {
   "display_name": "Python [conda env:lealenv]",
   "language": "python",
   "name": "conda-env-lealenv-py"
  },
  "language_info": {
   "codemirror_mode": {
    "name": "ipython",
    "version": 3
   },
   "file_extension": ".py",
   "mimetype": "text/x-python",
   "name": "python",
   "nbconvert_exporter": "python",
   "pygments_lexer": "ipython3",
   "version": "3.7.9"
  }
 },
 "nbformat": 4,
 "nbformat_minor": 4
}
